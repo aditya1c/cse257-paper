{
 "cells": [
  {
   "cell_type": "code",
   "execution_count": 1,
   "metadata": {
    "executionInfo": {
     "elapsed": 4,
     "status": "ok",
     "timestamp": 1622415550750,
     "user": {
      "displayName": "Aditya Mamidi",
      "photoUrl": "https://lh3.googleusercontent.com/-ZVjFvZzfSRk/AAAAAAAAAAI/AAAAAAAAO_o/YuKurwGqPLs/s64/photo.jpg",
      "userId": "11230502904851788584"
     },
     "user_tz": 420
    },
    "id": "b4e3f1ae"
   },
   "outputs": [],
   "source": [
    "import matplotlib.pyplot as plt"
   ]
  },
  {
   "cell_type": "code",
   "execution_count": 2,
   "metadata": {
    "colab": {
     "base_uri": "https://localhost:8080/"
    },
    "executionInfo": {
     "elapsed": 4,
     "status": "ok",
     "timestamp": 1622415552251,
     "user": {
      "displayName": "Aditya Mamidi",
      "photoUrl": "https://lh3.googleusercontent.com/-ZVjFvZzfSRk/AAAAAAAAAAI/AAAAAAAAO_o/YuKurwGqPLs/s64/photo.jpg",
      "userId": "11230502904851788584"
     },
     "user_tz": 420
    },
    "id": "etda2YvzFng9",
    "outputId": "9187dc9b-6610-4be9-cc67-75999f5378c4"
   },
   "outputs": [],
   "source": [
    "# %cd /content/drive/MyDrive/Classwork/CSE_257/DREAM/"
   ]
  },
  {
   "cell_type": "code",
   "execution_count": 3,
   "metadata": {
    "executionInfo": {
     "elapsed": 566184,
     "status": "ok",
     "timestamp": 1622416123454,
     "user": {
      "displayName": "Aditya Mamidi",
      "photoUrl": "https://lh3.googleusercontent.com/-ZVjFvZzfSRk/AAAAAAAAAAI/AAAAAAAAO_o/YuKurwGqPLs/s64/photo.jpg",
      "userId": "11230502904851788584"
     },
     "user_tz": 420
    },
    "id": "04e4b2ff"
   },
   "outputs": [],
   "source": [
    "operator_count = []\n",
    "cpu_util = []\n",
    "device_count = []\n",
    "\n",
    "for i in range(1000):\n",
    "    filename = 'dataset/graph_' + str(i) + '.json'\n",
    "    f = open(filename, 'r')\n",
    "    lines = f.readlines()\n",
    "    f.close()\n",
    "    count = 0\n",
    "    for line in lines:\n",
    "        if line.strip()[1:4] == 'idx':\n",
    "            count += 1\n",
    "        if line.strip()[1:4] == 'cpu':\n",
    "            tmp = float(line.strip().split(':')[1].split(',')[0])\n",
    "            if int(tmp) != 10000:\n",
    "                cpu_util.append(tmp)\n",
    "        if 'num_vms' in line.strip():\n",
    "            device_count.append(int(line.split(':')[1]))\n",
    "    operator_count.append(count)"
   ]
  },
  {
   "cell_type": "code",
   "execution_count": 5,
   "metadata": {
    "colab": {
     "base_uri": "https://localhost:8080/",
     "height": 279
    },
    "executionInfo": {
     "elapsed": 3378,
     "status": "ok",
     "timestamp": 1622416420527,
     "user": {
      "displayName": "Aditya Mamidi",
      "photoUrl": "https://lh3.googleusercontent.com/-ZVjFvZzfSRk/AAAAAAAAAAI/AAAAAAAAO_o/YuKurwGqPLs/s64/photo.jpg",
      "userId": "11230502904851788584"
     },
     "user_tz": 420
    },
    "id": "d27d1165",
    "outputId": "96b0070f-7b08-4b07-8efd-120d873d6f62"
   },
   "outputs": [
    {
     "data": {
      "image/png": "[encoded data removed]",
      "text/plain": [
       "<Figure size 432x288 with 1 Axes>"
      ]
     },
     "metadata": {
      "needs_background": "light"
     },
     "output_type": "display_data"
    }
   ],
   "source": [
    "plt.hist(device_count, alpha = 0.7, rwidth=0.85)\n",
    "plt.xlabel('Number of Devices')\n",
    "plt.ylabel('Number of graphs')\n",
    "plt.savefig('device_count_2.png', dpi = 1000)"
   ]
  },
  {
   "cell_type": "code",
   "execution_count": 6,
   "metadata": {
    "colab": {
     "base_uri": "https://localhost:8080/",
     "height": 279
    },
    "executionInfo": {
     "elapsed": 3179,
     "status": "ok",
     "timestamp": 1622416436385,
     "user": {
      "displayName": "Aditya Mamidi",
      "photoUrl": "https://lh3.googleusercontent.com/-ZVjFvZzfSRk/AAAAAAAAAAI/AAAAAAAAO_o/YuKurwGqPLs/s64/photo.jpg",
      "userId": "11230502904851788584"
     },
     "user_tz": 420
    },
    "id": "0967e205",
    "outputId": "d4e15209-5862-4600-fdb9-6ab238e656cf"
   },
   "outputs": [
    {
     "data": {
      "image/png": "[encoded data removed]",
      "text/plain": [
       "<Figure size 432x288 with 1 Axes>"
      ]
     },
     "metadata": {
      "needs_background": "light"
     },
     "output_type": "display_data"
    }
   ],
   "source": [
    "plt.hist(operator_count, bins = 25, alpha = 0.7, rwidth=0.85)\n",
    "plt.xlabel('Number of Operator')\n",
    "plt.ylabel('Number of graphs')\n",
    "plt.savefig('operator_count_2.png', dpi = 1000)"
   ]
  },
  {
   "cell_type": "code",
   "execution_count": 7,
   "metadata": {
    "colab": {
     "base_uri": "https://localhost:8080/",
     "height": 279
    },
    "executionInfo": {
     "elapsed": 3499,
     "status": "ok",
     "timestamp": 1622416448187,
     "user": {
      "displayName": "Aditya Mamidi",
      "photoUrl": "https://lh3.googleusercontent.com/-ZVjFvZzfSRk/AAAAAAAAAAI/AAAAAAAAO_o/YuKurwGqPLs/s64/photo.jpg",
      "userId": "11230502904851788584"
     },
     "user_tz": 420
    },
    "id": "c1d2894b",
    "outputId": "5bbde8b7-3435-4b4c-b154-ca27dfd92ce2"
   },
   "outputs": [
    {
     "data": {
      "image/png": "[encoded data removed]",
      "text/plain": [
       "<Figure size 432x288 with 1 Axes>"
      ]
     },
     "metadata": {
      "needs_background": "light"
     },
     "output_type": "display_data"
    }
   ],
   "source": [
    "plt.hist(cpu_util, bins = 30, alpha = 0.7, rwidth=0.85)\n",
    "plt.xlabel('CPU Utilization')\n",
    "plt.ylabel('Number of Operators')\n",
    "plt.savefig('cpu_util_2.png', dpi = 1000)"
   ]
  },
  {
   "cell_type": "code",
   "execution_count": null,
   "metadata": {
    "id": "c61b1d5a"
   },
   "outputs": [],
   "source": []
  }
 ],
 "metadata": {
  "colab": {
   "authorship_tag": "ABX9TyOGL/ESFNUNff8+5Nptm5aK",
   "collapsed_sections": [],
   "mount_file_id": "1eRygUVuxZn2vT7HjGo0Ht6tx_50WyDka",
   "name": "graph_features.ipynb",
   "provenance": []
  },
  "kernelspec": {
   "display_name": "Python 3",
   "language": "python",
   "name": "python3"
  },
  "language_info": {
   "codemirror_mode": {
    "name": "ipython",
    "version": 3
   },
   "file_extension": ".py",
   "mimetype": "text/x-python",
   "name": "python",
   "nbconvert_exporter": "python",
   "pygments_lexer": "ipython3",
   "version": "3.8.8"
  }
 },
 "nbformat": 4,
 "nbformat_minor": 1
}
